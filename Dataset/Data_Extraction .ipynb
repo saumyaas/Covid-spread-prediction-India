{
  "cells": [
    {
      "cell_type": "code",
      "execution_count": null,
      "metadata": {
        "id": "djcKcp4eaQyY"
      },
      "outputs": [],
      "source": [
        "import requests\n",
        "import pandas as pd\n",
        "import numpy as np"
      ]
    },
    {
      "cell_type": "code",
      "execution_count": null,
      "metadata": {
        "id": "TG-n3IGo_jo-",
        "colab": {
          "base_uri": "https://localhost:8080/"
        },
        "outputId": "39c39f7f-b833-4c4d-cf51-f0590256b297"
      },
      "outputs": [
        {
          "output_type": "stream",
          "name": "stdout",
          "text": [
            "Drive already mounted at /content/drive; to attempt to forcibly remount, call drive.mount(\"/content/drive\", force_remount=True).\n"
          ]
        }
      ],
      "source": [
        "from google.colab import drive\n",
        "drive.mount('/content/drive')"
      ]
    },
    {
      "cell_type": "code",
      "execution_count": null,
      "metadata": {
        "id": "RAfECmGWaUWu"
      },
      "outputs": [],
      "source": [
        "URL1 = \"https://api.icmr.org.in/covid_data/index.php/login\"\n",
        "Credentials = {\"username\": \"subudhi.badri\", \"password\": \"subudhi$#*@icmr2022\" }"
      ]
    },
    {
      "cell_type": "code",
      "execution_count": null,
      "metadata": {
        "id": "pmETRJ66an4-"
      },
      "outputs": [],
      "source": [
        "token = requests.post(url = URL1, json = Credentials).json()['token']"
      ]
    },
    {
      "cell_type": "code",
      "execution_count": null,
      "metadata": {
        "id": "5ywwbTohC_X7"
      },
      "outputs": [],
      "source": [
        "URL2 = \"https://api.icmr.org.in/covid_data/index.php/covid-data\""
      ]
    },
    {
      "cell_type": "code",
      "execution_count": null,
      "metadata": {
        "id": "L-QeUQwiDH1A"
      },
      "outputs": [],
      "source": [
        "def getit(x):\n",
        "  if (len(str(x)) == 1):\n",
        "    return \"0\" + str(x)\n",
        "  return str(x)\n",
        "\n",
        "total_cases = []\n",
        "positive_cases = []\n",
        "negative_cases = []"
      ]
    },
    {
      "cell_type": "code",
      "execution_count": null,
      "metadata": {
        "colab": {
          "base_uri": "https://localhost:8080/"
        },
        "id": "QhDb5H41_kVK",
        "outputId": "2ca4be5d-7c62-4745-8e4b-3c94e1cbdf69"
      },
      "outputs": [
        {
          "output_type": "stream",
          "name": "stdout",
          "text": [
            "Doing for month: 1\n",
            "==> Doing for date: 2021-01-26\n",
            "==> Doing for date: 2021-01-27\n",
            "==> Doing for date: 2021-01-28\n",
            "==> Doing for date: 2021-01-29\n",
            "==> Doing for date: 2021-01-30\n",
            "==> Doing for date: 2021-01-31\n"
          ]
        }
      ],
      "source": [
        "first=True\n",
        "for month in range(1, 12):      # months upto which we are training the model\n",
        "  print(\"Doing for month:\", month)\n",
        "  for date in range(1, 31):\n",
        "    DATE = \"2021-\" + getit(month) + \"-\" + getit(date)\n",
        "    print(\"==> Doing for date:\", DATE)\n",
        "    PARAMS2 = {\"date_from\": DATE + \" 00:00:00\", \"date_to\": DATE + \" 23:59:59\"}\n",
        "    token = requests.post(url = URL1, json = Credentials).json()['token']\n",
        "    HEADERS = {\"Authorization\": \"Bearer \" + str(token)}\n",
        "    next=True\n",
        "    offset_val='0'\n",
        "    offset=0\n",
        "  \n",
        "    while(next==True):\n",
        "\n",
        "      Duration = {\"date_from\": DATE + \" 00:00:00\", \"date_to\": DATE + \" 23:59:59\", \"offset\": offset_val}\n",
        "      data1=requests.post(url=URL2, json=Duration, headers = HEADERS).json()\n",
        "\n",
        "      try:\n",
        "        Total_result=data1['response']['total_result'] \n",
        "      except:\n",
        "        token = requests.post(url = URL1, json = Credentials).json()['token']\n",
        "        HEADERS = {\"Authorization\": \"Bearer \" + str(token)}\n",
        "        continue\n",
        "\n",
        "      \n",
        "\n",
        "      if(Total_result<10000):\n",
        "        next=False\n",
        "\n",
        "      if(first==True):\n",
        "        df=pd.DataFrame(data1['response']['data_result'][:Total_result])\n",
        "        first=False\n",
        "      else:\n",
        "        data=pd.DataFrame(data1['response']['data_result'][:Total_result])\n",
        "        df=df.append([data])\n",
        "\n",
        "      offset=offset+Total_result\n",
        "      offset_val=str(offset)\n",
        "      "
      ]
    },
    {
      "cell_type": "code",
      "execution_count": null,
      "metadata": {
        "colab": {
          "base_uri": "https://localhost:8080/"
        },
        "id": "nafKoRWlXEb8",
        "outputId": "b8107f52-12d0-412f-acc6-0af4e1eaaa86"
      },
      "outputs": [
        {
          "output_type": "stream",
          "name": "stdout",
          "text": [
            "<class 'pandas.core.frame.DataFrame'>\n",
            "Int64Index: 4166326 entries, 0 to 3366\n",
            "Data columns (total 24 columns):\n",
            " #   Column                        Dtype \n",
            "---  ------                        ----- \n",
            " 0   icmr_id                       object\n",
            " 1   clinical_id                   object\n",
            " 2   age                           object\n",
            " 3   age_in                        object\n",
            " 4   gender                        object\n",
            " 5   patient_category              object\n",
            " 6   state_residence               object\n",
            " 7   district_residence            object\n",
            " 8   lab_id                        object\n",
            " 9   date_sample_collection        object\n",
            " 10  date_sample_received          object\n",
            " 11  date_of_sample_tested         object\n",
            " 12  symptoms                      object\n",
            " 13  underlying_medical_condition  object\n",
            " 14  testing_kit_used              object\n",
            " 15  egene_screening               object\n",
            " 16  ct_value_screening            object\n",
            " 17  rdrp_confirmatory             object\n",
            " 18  ct_value_rdrp                 object\n",
            " 19  orf1b_confirmatory            object\n",
            " 20  ct_value_orf1b                object\n",
            " 21  final_test_result             object\n",
            " 22  entry_date                    object\n",
            " 23  updated_on                    object\n",
            "dtypes: object(24)\n",
            "memory usage: 794.7+ MB\n"
          ]
        }
      ],
      "source": [
        "df.info()"
      ]
    },
    {
      "cell_type": "code",
      "execution_count": null,
      "metadata": {
        "id": "jLoaL_FDJ7-F"
      },
      "outputs": [],
      "source": [
        "df=df.drop_duplicates()"
      ]
    },
    {
      "cell_type": "code",
      "execution_count": null,
      "metadata": {
        "id": "a4nXFzI3NfCc"
      },
      "outputs": [],
      "source": [
        "compression_opts = dict(method='zip',\n",
        "                        archive_name='Jan-5.csv')  \n",
        "df.to_csv('/content/drive/MyDrive/Covid-ICMR-Data/January/Jan-5.zip', index=False,\n",
        "          compression=compression_opts)  "
      ]
    },
    {
      "cell_type": "code",
      "execution_count": null,
      "metadata": {
        "colab": {
          "base_uri": "https://localhost:8080/",
          "height": 35
        },
        "id": "CM76FlFqJ7-F",
        "outputId": "ac9f87ef-4873-48cd-9db2-451120b9ac88"
      },
      "outputs": [
        {
          "output_type": "execute_result",
          "data": {
            "text/plain": [
              "\"import zipfile\\nimport pandas as pd\\n \\n# read the dataset using the compression zip\\ndf = pd.read_csv('/content/drive/MyDrive/Covid-ICMR-Data/January/Jan-5.zip',compression='zip')\\n \\n# display dataset\\nprint(df.head())\""
            ],
            "application/vnd.google.colaboratory.intrinsic+json": {
              "type": "string"
            }
          },
          "metadata": {},
          "execution_count": 11
        }
      ],
      "source": [
        "'''import zipfile\n",
        "import pandas as pd\n",
        " \n",
        "# read the dataset using the compression zip\n",
        "df = pd.read_csv('/content/drive/MyDrive/Covid-ICMR-Data/January/Jan-5.zip',compression='zip')\n",
        " \n",
        "# display dataset\n",
        "print(df.head())'''"
      ]
    },
    {
      "cell_type": "code",
      "execution_count": null,
      "metadata": {
        "id": "0xW_ZlXukAmN"
      },
      "outputs": [],
      "source": [
        "df['Date'] = pd.to_datetime(df['entry_date']).dt.date\n",
        "df['Time'] = pd.to_datetime(df['entry_date']).dt.time"
      ]
    },
    {
      "cell_type": "code",
      "execution_count": null,
      "metadata": {
        "id": "spB7fMCZvpNb"
      },
      "outputs": [],
      "source": [
        "Final_data=df.groupby(['state_residence','district_residence','Date','final_test_result']).agg({'icmr_id':'count',}).reset_index().rename(columns={'icmr_id':'count'})"
      ]
    },
    {
      "cell_type": "code",
      "execution_count": null,
      "metadata": {
        "id": "Y1hHJzOf6Ywf"
      },
      "outputs": [],
      "source": [
        "data=Final_data.pivot_table(index=['state_residence','district_residence','Date'], columns=[\"final_test_result\"], values=\"count\", fill_value=0,aggfunc=np.sum)"
      ]
    },
    {
      "cell_type": "code",
      "execution_count": null,
      "metadata": {
        "colab": {
          "base_uri": "https://localhost:8080/",
          "height": 299
        },
        "id": "5nqZtTpB9OzQ",
        "outputId": "4b5cf2c2-6516-47dc-d559-23e1757f1701"
      },
      "outputs": [
        {
          "output_type": "execute_result",
          "data": {
            "text/plain": [
              "final_test_result                                          ANTIGEN Negative  \\\n",
              "state_residence             district_residence Date                           \n",
              "ANDAMAN AND NICOBAR ISLANDS NICOBARS           2021-01-26                 0   \n",
              "                                               2021-01-27                 0   \n",
              "                                               2021-01-28                 0   \n",
              "                                               2021-01-29                 0   \n",
              "                                               2021-01-30                 0   \n",
              "\n",
              "final_test_result                                          ANTIGEN Positive  \\\n",
              "state_residence             district_residence Date                           \n",
              "ANDAMAN AND NICOBAR ISLANDS NICOBARS           2021-01-26                 0   \n",
              "                                               2021-01-27                 0   \n",
              "                                               2021-01-28                 0   \n",
              "                                               2021-01-29                 0   \n",
              "                                               2021-01-30                 0   \n",
              "\n",
              "final_test_result                                          Antigen Negative  \\\n",
              "state_residence             district_residence Date                           \n",
              "ANDAMAN AND NICOBAR ISLANDS NICOBARS           2021-01-26                 0   \n",
              "                                               2021-01-27                 6   \n",
              "                                               2021-01-28                 1   \n",
              "                                               2021-01-29                 7   \n",
              "                                               2021-01-30                 0   \n",
              "\n",
              "final_test_result                                          Antigen Positive  \\\n",
              "state_residence             district_residence Date                           \n",
              "ANDAMAN AND NICOBAR ISLANDS NICOBARS           2021-01-26                 0   \n",
              "                                               2021-01-27                 0   \n",
              "                                               2021-01-28                 0   \n",
              "                                               2021-01-29                 0   \n",
              "                                               2021-01-30                 0   \n",
              "\n",
              "final_test_result                                          Inconclusive  \\\n",
              "state_residence             district_residence Date                       \n",
              "ANDAMAN AND NICOBAR ISLANDS NICOBARS           2021-01-26             0   \n",
              "                                               2021-01-27             0   \n",
              "                                               2021-01-28             0   \n",
              "                                               2021-01-29             0   \n",
              "                                               2021-01-30             0   \n",
              "\n",
              "final_test_result                                          Nagative  Negative  \\\n",
              "state_residence             district_residence Date                             \n",
              "ANDAMAN AND NICOBAR ISLANDS NICOBARS           2021-01-26         0        10   \n",
              "                                               2021-01-27         0        19   \n",
              "                                               2021-01-28         0        14   \n",
              "                                               2021-01-29         0        24   \n",
              "                                               2021-01-30         0        16   \n",
              "\n",
              "final_test_result                                          Positive  \\\n",
              "state_residence             district_residence Date                   \n",
              "ANDAMAN AND NICOBAR ISLANDS NICOBARS           2021-01-26         0   \n",
              "                                               2021-01-27         0   \n",
              "                                               2021-01-28         0   \n",
              "                                               2021-01-29         0   \n",
              "                                               2021-01-30         0   \n",
              "\n",
              "final_test_result                                          Rejected (sample leakage)  \\\n",
              "state_residence             district_residence Date                                    \n",
              "ANDAMAN AND NICOBAR ISLANDS NICOBARS           2021-01-26                          0   \n",
              "                                               2021-01-27                          0   \n",
              "                                               2021-01-28                          0   \n",
              "                                               2021-01-29                          0   \n",
              "                                               2021-01-30                          0   \n",
              "\n",
              "final_test_result                                          Sample Rejected  \\\n",
              "state_residence             district_residence Date                          \n",
              "ANDAMAN AND NICOBAR ISLANDS NICOBARS           2021-01-26                0   \n",
              "                                               2021-01-27                0   \n",
              "                                               2021-01-28                0   \n",
              "                                               2021-01-29                0   \n",
              "                                               2021-01-30                0   \n",
              "\n",
              "final_test_result                                          Spillage  \\\n",
              "state_residence             district_residence Date                   \n",
              "ANDAMAN AND NICOBAR ISLANDS NICOBARS           2021-01-26         0   \n",
              "                                               2021-01-27         0   \n",
              "                                               2021-01-28         0   \n",
              "                                               2021-01-29         0   \n",
              "                                               2021-01-30         0   \n",
              "\n",
              "final_test_result                                          TrueNAT Screening Negative  \\\n",
              "state_residence             district_residence Date                                     \n",
              "ANDAMAN AND NICOBAR ISLANDS NICOBARS           2021-01-26                           0   \n",
              "                                               2021-01-27                           0   \n",
              "                                               2021-01-28                           0   \n",
              "                                               2021-01-29                           1   \n",
              "                                               2021-01-30                           0   \n",
              "\n",
              "final_test_result                                          TrueNAT Screening Positive  \\\n",
              "state_residence             district_residence Date                                     \n",
              "ANDAMAN AND NICOBAR ISLANDS NICOBARS           2021-01-26                           0   \n",
              "                                               2021-01-27                           0   \n",
              "                                               2021-01-28                           0   \n",
              "                                               2021-01-29                           0   \n",
              "                                               2021-01-30                           0   \n",
              "\n",
              "final_test_result                                          Under Process  \n",
              "state_residence             district_residence Date                       \n",
              "ANDAMAN AND NICOBAR ISLANDS NICOBARS           2021-01-26              0  \n",
              "                                               2021-01-27              0  \n",
              "                                               2021-01-28              0  \n",
              "                                               2021-01-29              0  \n",
              "                                               2021-01-30              0  "
            ],
            "text/html": [
              "\n",
              "  <div id=\"df-0e4f02e5-56b0-4aa2-a754-9f564cc2c595\">\n",
              "    <div class=\"colab-df-container\">\n",
              "      <div>\n",
              "<style scoped>\n",
              "    .dataframe tbody tr th:only-of-type {\n",
              "        vertical-align: middle;\n",
              "    }\n",
              "\n",
              "    .dataframe tbody tr th {\n",
              "        vertical-align: top;\n",
              "    }\n",
              "\n",
              "    .dataframe thead th {\n",
              "        text-align: right;\n",
              "    }\n",
              "</style>\n",
              "<table border=\"1\" class=\"dataframe\">\n",
              "  <thead>\n",
              "    <tr style=\"text-align: right;\">\n",
              "      <th></th>\n",
              "      <th></th>\n",
              "      <th>final_test_result</th>\n",
              "      <th>ANTIGEN Negative</th>\n",
              "      <th>ANTIGEN Positive</th>\n",
              "      <th>Antigen Negative</th>\n",
              "      <th>Antigen Positive</th>\n",
              "      <th>Inconclusive</th>\n",
              "      <th>Nagative</th>\n",
              "      <th>Negative</th>\n",
              "      <th>Positive</th>\n",
              "      <th>Rejected (sample leakage)</th>\n",
              "      <th>Sample Rejected</th>\n",
              "      <th>Spillage</th>\n",
              "      <th>TrueNAT Screening Negative</th>\n",
              "      <th>TrueNAT Screening Positive</th>\n",
              "      <th>Under Process</th>\n",
              "    </tr>\n",
              "    <tr>\n",
              "      <th>state_residence</th>\n",
              "      <th>district_residence</th>\n",
              "      <th>Date</th>\n",
              "      <th></th>\n",
              "      <th></th>\n",
              "      <th></th>\n",
              "      <th></th>\n",
              "      <th></th>\n",
              "      <th></th>\n",
              "      <th></th>\n",
              "      <th></th>\n",
              "      <th></th>\n",
              "      <th></th>\n",
              "      <th></th>\n",
              "      <th></th>\n",
              "      <th></th>\n",
              "      <th></th>\n",
              "    </tr>\n",
              "  </thead>\n",
              "  <tbody>\n",
              "    <tr>\n",
              "      <th rowspan=\"5\" valign=\"top\">ANDAMAN AND NICOBAR ISLANDS</th>\n",
              "      <th rowspan=\"5\" valign=\"top\">NICOBARS</th>\n",
              "      <th>2021-01-26</th>\n",
              "      <td>0</td>\n",
              "      <td>0</td>\n",
              "      <td>0</td>\n",
              "      <td>0</td>\n",
              "      <td>0</td>\n",
              "      <td>0</td>\n",
              "      <td>10</td>\n",
              "      <td>0</td>\n",
              "      <td>0</td>\n",
              "      <td>0</td>\n",
              "      <td>0</td>\n",
              "      <td>0</td>\n",
              "      <td>0</td>\n",
              "      <td>0</td>\n",
              "    </tr>\n",
              "    <tr>\n",
              "      <th>2021-01-27</th>\n",
              "      <td>0</td>\n",
              "      <td>0</td>\n",
              "      <td>6</td>\n",
              "      <td>0</td>\n",
              "      <td>0</td>\n",
              "      <td>0</td>\n",
              "      <td>19</td>\n",
              "      <td>0</td>\n",
              "      <td>0</td>\n",
              "      <td>0</td>\n",
              "      <td>0</td>\n",
              "      <td>0</td>\n",
              "      <td>0</td>\n",
              "      <td>0</td>\n",
              "    </tr>\n",
              "    <tr>\n",
              "      <th>2021-01-28</th>\n",
              "      <td>0</td>\n",
              "      <td>0</td>\n",
              "      <td>1</td>\n",
              "      <td>0</td>\n",
              "      <td>0</td>\n",
              "      <td>0</td>\n",
              "      <td>14</td>\n",
              "      <td>0</td>\n",
              "      <td>0</td>\n",
              "      <td>0</td>\n",
              "      <td>0</td>\n",
              "      <td>0</td>\n",
              "      <td>0</td>\n",
              "      <td>0</td>\n",
              "    </tr>\n",
              "    <tr>\n",
              "      <th>2021-01-29</th>\n",
              "      <td>0</td>\n",
              "      <td>0</td>\n",
              "      <td>7</td>\n",
              "      <td>0</td>\n",
              "      <td>0</td>\n",
              "      <td>0</td>\n",
              "      <td>24</td>\n",
              "      <td>0</td>\n",
              "      <td>0</td>\n",
              "      <td>0</td>\n",
              "      <td>0</td>\n",
              "      <td>1</td>\n",
              "      <td>0</td>\n",
              "      <td>0</td>\n",
              "    </tr>\n",
              "    <tr>\n",
              "      <th>2021-01-30</th>\n",
              "      <td>0</td>\n",
              "      <td>0</td>\n",
              "      <td>0</td>\n",
              "      <td>0</td>\n",
              "      <td>0</td>\n",
              "      <td>0</td>\n",
              "      <td>16</td>\n",
              "      <td>0</td>\n",
              "      <td>0</td>\n",
              "      <td>0</td>\n",
              "      <td>0</td>\n",
              "      <td>0</td>\n",
              "      <td>0</td>\n",
              "      <td>0</td>\n",
              "    </tr>\n",
              "  </tbody>\n",
              "</table>\n",
              "</div>\n",
              "      <button class=\"colab-df-convert\" onclick=\"convertToInteractive('df-0e4f02e5-56b0-4aa2-a754-9f564cc2c595')\"\n",
              "              title=\"Convert this dataframe to an interactive table.\"\n",
              "              style=\"display:none;\">\n",
              "        \n",
              "  <svg xmlns=\"http://www.w3.org/2000/svg\" height=\"24px\"viewBox=\"0 0 24 24\"\n",
              "       width=\"24px\">\n",
              "    <path d=\"M0 0h24v24H0V0z\" fill=\"none\"/>\n",
              "    <path d=\"M18.56 5.44l.94 2.06.94-2.06 2.06-.94-2.06-.94-.94-2.06-.94 2.06-2.06.94zm-11 1L8.5 8.5l.94-2.06 2.06-.94-2.06-.94L8.5 2.5l-.94 2.06-2.06.94zm10 10l.94 2.06.94-2.06 2.06-.94-2.06-.94-.94-2.06-.94 2.06-2.06.94z\"/><path d=\"M17.41 7.96l-1.37-1.37c-.4-.4-.92-.59-1.43-.59-.52 0-1.04.2-1.43.59L10.3 9.45l-7.72 7.72c-.78.78-.78 2.05 0 2.83L4 21.41c.39.39.9.59 1.41.59.51 0 1.02-.2 1.41-.59l7.78-7.78 2.81-2.81c.8-.78.8-2.07 0-2.86zM5.41 20L4 18.59l7.72-7.72 1.47 1.35L5.41 20z\"/>\n",
              "  </svg>\n",
              "      </button>\n",
              "      \n",
              "  <style>\n",
              "    .colab-df-container {\n",
              "      display:flex;\n",
              "      flex-wrap:wrap;\n",
              "      gap: 12px;\n",
              "    }\n",
              "\n",
              "    .colab-df-convert {\n",
              "      background-color: #E8F0FE;\n",
              "      border: none;\n",
              "      border-radius: 50%;\n",
              "      cursor: pointer;\n",
              "      display: none;\n",
              "      fill: #1967D2;\n",
              "      height: 32px;\n",
              "      padding: 0 0 0 0;\n",
              "      width: 32px;\n",
              "    }\n",
              "\n",
              "    .colab-df-convert:hover {\n",
              "      background-color: #E2EBFA;\n",
              "      box-shadow: 0px 1px 2px rgba(60, 64, 67, 0.3), 0px 1px 3px 1px rgba(60, 64, 67, 0.15);\n",
              "      fill: #174EA6;\n",
              "    }\n",
              "\n",
              "    [theme=dark] .colab-df-convert {\n",
              "      background-color: #3B4455;\n",
              "      fill: #D2E3FC;\n",
              "    }\n",
              "\n",
              "    [theme=dark] .colab-df-convert:hover {\n",
              "      background-color: #434B5C;\n",
              "      box-shadow: 0px 1px 3px 1px rgba(0, 0, 0, 0.15);\n",
              "      filter: drop-shadow(0px 1px 2px rgba(0, 0, 0, 0.3));\n",
              "      fill: #FFFFFF;\n",
              "    }\n",
              "  </style>\n",
              "\n",
              "      <script>\n",
              "        const buttonEl =\n",
              "          document.querySelector('#df-0e4f02e5-56b0-4aa2-a754-9f564cc2c595 button.colab-df-convert');\n",
              "        buttonEl.style.display =\n",
              "          google.colab.kernel.accessAllowed ? 'block' : 'none';\n",
              "\n",
              "        async function convertToInteractive(key) {\n",
              "          const element = document.querySelector('#df-0e4f02e5-56b0-4aa2-a754-9f564cc2c595');\n",
              "          const dataTable =\n",
              "            await google.colab.kernel.invokeFunction('convertToInteractive',\n",
              "                                                     [key], {});\n",
              "          if (!dataTable) return;\n",
              "\n",
              "          const docLinkHtml = 'Like what you see? Visit the ' +\n",
              "            '<a target=\"_blank\" href=https://colab.research.google.com/notebooks/data_table.ipynb>data table notebook</a>'\n",
              "            + ' to learn more about interactive tables.';\n",
              "          element.innerHTML = '';\n",
              "          dataTable['output_type'] = 'display_data';\n",
              "          await google.colab.output.renderOutput(dataTable, element);\n",
              "          const docLink = document.createElement('div');\n",
              "          docLink.innerHTML = docLinkHtml;\n",
              "          element.appendChild(docLink);\n",
              "        }\n",
              "      </script>\n",
              "    </div>\n",
              "  </div>\n",
              "  "
            ]
          },
          "metadata": {},
          "execution_count": 28
        }
      ],
      "source": [
        "data.head()"
      ]
    },
    {
      "cell_type": "code",
      "execution_count": null,
      "metadata": {
        "id": "aYqC8IVjVgrd"
      },
      "outputs": [],
      "source": [
        "data.reset_index(inplace=True)"
      ]
    },
    {
      "cell_type": "code",
      "execution_count": null,
      "metadata": {
        "id": "AAO1FgSm-HK8"
      },
      "outputs": [],
      "source": [
        "data['new_case']=data['ANTIGEN Positive']+data['Antigen Positive']+data['Positive']+data['TrueNAT Screening Positive']"
      ]
    },
    {
      "cell_type": "code",
      "execution_count": null,
      "metadata": {
        "id": "RENqk7m9-ijc"
      },
      "outputs": [],
      "source": [
        "data['negative_case']=data['Antigen Negative']+data['ANTIGEN Negative']+data['Negative']+ data['TrueNAT Screening Negative']+ data['Nagative']"
      ]
    },
    {
      "cell_type": "code",
      "execution_count": null,
      "metadata": {
        "id": "xLlUkTQx_AeF"
      },
      "outputs": [],
      "source": [
        "data['Failed_test']=data['Inconclusive']+data['Sample Rejected']+data['Spillage']+data['Under Process']+data['Rejected (sample leakage)']"
      ]
    },
    {
      "cell_type": "code",
      "execution_count": null,
      "metadata": {
        "id": "66vLF3QuBUL3"
      },
      "outputs": [],
      "source": [
        "data['Total_test']=data['Failed_test']+data['negative_case']+data['new_case']"
      ]
    },
    {
      "cell_type": "code",
      "execution_count": null,
      "metadata": {
        "id": "Ox_FCRjpFkVn"
      },
      "outputs": [],
      "source": [
        "data.reset_index(drop=True,inplace=True)"
      ]
    },
    {
      "cell_type": "code",
      "execution_count": null,
      "metadata": {
        "colab": {
          "base_uri": "https://localhost:8080/"
        },
        "id": "zsxfzlJwD0LQ",
        "outputId": "224de562-5a2d-48dc-83f0-e311bf54cc9f"
      },
      "outputs": [
        {
          "output_type": "stream",
          "name": "stdout",
          "text": [
            "<class 'pandas.core.frame.DataFrame'>\n",
            "RangeIndex: 4286 entries, 0 to 4285\n",
            "Data columns (total 21 columns):\n",
            " #   Column                      Non-Null Count  Dtype \n",
            "---  ------                      --------------  ----- \n",
            " 0   state_residence             4286 non-null   object\n",
            " 1   district_residence          4286 non-null   object\n",
            " 2   Date                        4286 non-null   object\n",
            " 3   ANTIGEN Negative            4286 non-null   int64 \n",
            " 4   ANTIGEN Positive            4286 non-null   int64 \n",
            " 5   Antigen Negative            4286 non-null   int64 \n",
            " 6   Antigen Positive            4286 non-null   int64 \n",
            " 7   Inconclusive                4286 non-null   int64 \n",
            " 8   Nagative                    4286 non-null   int64 \n",
            " 9   Negative                    4286 non-null   int64 \n",
            " 10  Positive                    4286 non-null   int64 \n",
            " 11  Rejected (sample leakage)   4286 non-null   int64 \n",
            " 12  Sample Rejected             4286 non-null   int64 \n",
            " 13  Spillage                    4286 non-null   int64 \n",
            " 14  TrueNAT Screening Negative  4286 non-null   int64 \n",
            " 15  TrueNAT Screening Positive  4286 non-null   int64 \n",
            " 16  Under Process               4286 non-null   int64 \n",
            " 17  new_case                    4286 non-null   int64 \n",
            " 18  negative_case               4286 non-null   int64 \n",
            " 19  Failed_test                 4286 non-null   int64 \n",
            " 20  Total_test                  4286 non-null   int64 \n",
            "dtypes: int64(18), object(3)\n",
            "memory usage: 703.3+ KB\n"
          ]
        }
      ],
      "source": [
        "data.info()"
      ]
    },
    {
      "cell_type": "code",
      "execution_count": null,
      "metadata": {
        "id": "mAZwvhg1C4mT"
      },
      "outputs": [],
      "source": [
        "data.drop(['ANTIGEN Negative','ANTIGEN Positive',\t'Antigen Negative',\t'Antigen Positive','Nagative','Inconclusive','Negative',\t'Positive',\t'Rejected (sample leakage)',\t'Sample Rejected','Spillage','TrueNAT Screening Negative','TrueNAT Screening Positive',\t'Under Process'],axis=1,inplace=True)"
      ]
    },
    {
      "cell_type": "code",
      "execution_count": null,
      "metadata": {
        "colab": {
          "base_uri": "https://localhost:8080/"
        },
        "id": "gZmmzqHuEKGu",
        "outputId": "af2a6fbd-952b-4d96-8f70-b568cadc492f"
      },
      "outputs": [
        {
          "output_type": "stream",
          "name": "stdout",
          "text": [
            "<class 'pandas.core.frame.DataFrame'>\n",
            "RangeIndex: 4286 entries, 0 to 4285\n",
            "Data columns (total 7 columns):\n",
            " #   Column              Non-Null Count  Dtype \n",
            "---  ------              --------------  ----- \n",
            " 0   state_residence     4286 non-null   object\n",
            " 1   district_residence  4286 non-null   object\n",
            " 2   Date                4286 non-null   object\n",
            " 3   new_case            4286 non-null   int64 \n",
            " 4   Failed_test         4286 non-null   int64 \n",
            " 5   negative_case       4286 non-null   int64 \n",
            " 6   Total_test          4286 non-null   int64 \n",
            "dtypes: int64(4), object(3)\n",
            "memory usage: 234.5+ KB\n"
          ]
        }
      ],
      "source": [
        "data.info()"
      ]
    },
    {
      "cell_type": "code",
      "execution_count": null,
      "metadata": {
        "id": "Ro8E5wDXHIx7"
      },
      "outputs": [],
      "source": [
        "\n",
        "data.to_csv('/content/drive/MyDrive/Covid-ICMR-Data/January/Jan-5-final.csv', index=False)  "
      ]
    }
  ],
  "metadata": {
    "colab": {
      "collapsed_sections": [],
      "provenance": []
    },
    "gpuClass": "standard",
    "kernelspec": {
      "display_name": "Python 3",
      "name": "python3"
    },
    "language_info": {
      "name": "python"
    }
  },
  "nbformat": 4,
  "nbformat_minor": 0
}
